{
 "cells": [
  {
   "cell_type": "markdown",
   "metadata": {},
   "source": [
    "# 데이터셋 확인"
   ]
  },
  {
   "cell_type": "markdown",
   "metadata": {},
   "source": [
    "## 불필요한 컬럼 및 영어 아닌 값들 제거"
   ]
  },
  {
   "cell_type": "code",
   "execution_count": null,
   "metadata": {},
   "outputs": [],
   "source": [
    "import pandas as pd\n",
    "\n",
    "df1 = pd.read_csv('dataset/Genius Song Lyrics.csv')"
   ]
  },
  {
   "cell_type": "code",
   "execution_count": null,
   "metadata": {},
   "outputs": [
    {
     "name": "stdout",
     "output_type": "stream",
     "text": [
      "df1 columns : Index(['title', 'tag', 'artist', 'year', 'views', 'features', 'lyrics', 'id',\n",
      "       'language_cld3', 'language_ft', 'language'],\n",
      "      dtype='object')\n"
     ]
    }
   ],
   "source": [
    "print('df1 columns :', df1.columns)"
   ]
  },
  {
   "cell_type": "code",
   "execution_count": null,
   "metadata": {},
   "outputs": [
    {
     "data": {
      "text/html": [
       "<div>\n",
       "<style scoped>\n",
       "    .dataframe tbody tr th:only-of-type {\n",
       "        vertical-align: middle;\n",
       "    }\n",
       "\n",
       "    .dataframe tbody tr th {\n",
       "        vertical-align: top;\n",
       "    }\n",
       "\n",
       "    .dataframe thead th {\n",
       "        text-align: right;\n",
       "    }\n",
       "</style>\n",
       "<table border=\"1\" class=\"dataframe\">\n",
       "  <thead>\n",
       "    <tr style=\"text-align: right;\">\n",
       "      <th></th>\n",
       "      <th>title</th>\n",
       "      <th>tag</th>\n",
       "      <th>artist</th>\n",
       "      <th>year</th>\n",
       "      <th>views</th>\n",
       "      <th>features</th>\n",
       "      <th>lyrics</th>\n",
       "      <th>id</th>\n",
       "      <th>language_cld3</th>\n",
       "      <th>language_ft</th>\n",
       "      <th>language</th>\n",
       "    </tr>\n",
       "  </thead>\n",
       "  <tbody>\n",
       "    <tr>\n",
       "      <th>0</th>\n",
       "      <td>Killa Cam</td>\n",
       "      <td>rap</td>\n",
       "      <td>Cam'ron</td>\n",
       "      <td>2004</td>\n",
       "      <td>173166</td>\n",
       "      <td>{\"Cam\\\\'ron\",\"Opera Steve\"}</td>\n",
       "      <td>[Chorus: Opera Steve &amp; Cam'ron]\\nKilla Cam, Ki...</td>\n",
       "      <td>1</td>\n",
       "      <td>en</td>\n",
       "      <td>en</td>\n",
       "      <td>en</td>\n",
       "    </tr>\n",
       "    <tr>\n",
       "      <th>1</th>\n",
       "      <td>Can I Live</td>\n",
       "      <td>rap</td>\n",
       "      <td>JAY-Z</td>\n",
       "      <td>1996</td>\n",
       "      <td>468624</td>\n",
       "      <td>{}</td>\n",
       "      <td>[Produced by Irv Gotti]\\n\\n[Intro]\\nYeah, hah,...</td>\n",
       "      <td>3</td>\n",
       "      <td>en</td>\n",
       "      <td>en</td>\n",
       "      <td>en</td>\n",
       "    </tr>\n",
       "    <tr>\n",
       "      <th>2</th>\n",
       "      <td>Forgive Me Father</td>\n",
       "      <td>rap</td>\n",
       "      <td>Fabolous</td>\n",
       "      <td>2003</td>\n",
       "      <td>4743</td>\n",
       "      <td>{}</td>\n",
       "      <td>Maybe cause I'm eatin\\nAnd these bastards fien...</td>\n",
       "      <td>4</td>\n",
       "      <td>en</td>\n",
       "      <td>en</td>\n",
       "      <td>en</td>\n",
       "    </tr>\n",
       "    <tr>\n",
       "      <th>3</th>\n",
       "      <td>Down and Out</td>\n",
       "      <td>rap</td>\n",
       "      <td>Cam'ron</td>\n",
       "      <td>2004</td>\n",
       "      <td>144404</td>\n",
       "      <td>{\"Cam\\\\'ron\",\"Kanye West\",\"Syleena Johnson\"}</td>\n",
       "      <td>[Produced by Kanye West and Brian Miller]\\n\\n[...</td>\n",
       "      <td>5</td>\n",
       "      <td>en</td>\n",
       "      <td>en</td>\n",
       "      <td>en</td>\n",
       "    </tr>\n",
       "    <tr>\n",
       "      <th>4</th>\n",
       "      <td>Fly In</td>\n",
       "      <td>rap</td>\n",
       "      <td>Lil Wayne</td>\n",
       "      <td>2005</td>\n",
       "      <td>78271</td>\n",
       "      <td>{}</td>\n",
       "      <td>[Intro]\\nSo they ask me\\n\"Young boy\\nWhat you ...</td>\n",
       "      <td>6</td>\n",
       "      <td>en</td>\n",
       "      <td>en</td>\n",
       "      <td>en</td>\n",
       "    </tr>\n",
       "  </tbody>\n",
       "</table>\n",
       "</div>"
      ],
      "text/plain": [
       "               title  tag     artist  year   views  \\\n",
       "0          Killa Cam  rap    Cam'ron  2004  173166   \n",
       "1         Can I Live  rap      JAY-Z  1996  468624   \n",
       "2  Forgive Me Father  rap   Fabolous  2003    4743   \n",
       "3       Down and Out  rap    Cam'ron  2004  144404   \n",
       "4             Fly In  rap  Lil Wayne  2005   78271   \n",
       "\n",
       "                                       features  \\\n",
       "0                   {\"Cam\\\\'ron\",\"Opera Steve\"}   \n",
       "1                                            {}   \n",
       "2                                            {}   \n",
       "3  {\"Cam\\\\'ron\",\"Kanye West\",\"Syleena Johnson\"}   \n",
       "4                                            {}   \n",
       "\n",
       "                                              lyrics  id language_cld3  \\\n",
       "0  [Chorus: Opera Steve & Cam'ron]\\nKilla Cam, Ki...   1            en   \n",
       "1  [Produced by Irv Gotti]\\n\\n[Intro]\\nYeah, hah,...   3            en   \n",
       "2  Maybe cause I'm eatin\\nAnd these bastards fien...   4            en   \n",
       "3  [Produced by Kanye West and Brian Miller]\\n\\n[...   5            en   \n",
       "4  [Intro]\\nSo they ask me\\n\"Young boy\\nWhat you ...   6            en   \n",
       "\n",
       "  language_ft language  \n",
       "0          en       en  \n",
       "1          en       en  \n",
       "2          en       en  \n",
       "3          en       en  \n",
       "4          en       en  "
      ]
     },
     "execution_count": 4,
     "metadata": {},
     "output_type": "execute_result"
    }
   ],
   "source": [
    "df1[:5]"
   ]
  },
  {
   "cell_type": "code",
   "execution_count": null,
   "metadata": {},
   "outputs": [
    {
     "name": "stdout",
     "output_type": "stream",
     "text": [
      "<class 'pandas.core.frame.DataFrame'>\n",
      "Index: 3374198 entries, 0 to 5134855\n",
      "Data columns (total 11 columns):\n",
      " #   Column         Dtype \n",
      "---  ------         ----- \n",
      " 0   title          object\n",
      " 1   tag            object\n",
      " 2   artist         object\n",
      " 3   year           int64 \n",
      " 4   views          int64 \n",
      " 5   features       object\n",
      " 6   lyrics         object\n",
      " 7   id             int64 \n",
      " 8   language_cld3  object\n",
      " 9   language_ft    object\n",
      " 10  language       object\n",
      "dtypes: int64(3), object(8)\n",
      "memory usage: 308.9+ MB\n"
     ]
    }
   ],
   "source": [
    "# 영어노래만 남기기\n",
    "df1 = df1[df1['language'] == 'en']\n",
    "df1.info()"
   ]
  },
  {
   "cell_type": "code",
   "execution_count": null,
   "metadata": {},
   "outputs": [],
   "source": [
    "df1 = df1.drop(columns=['language_cld3', 'language_ft', 'language', 'id', 'features'])"
   ]
  },
  {
   "cell_type": "code",
   "execution_count": null,
   "metadata": {},
   "outputs": [
    {
     "name": "stdout",
     "output_type": "stream",
     "text": [
      "df1 columns : Index(['title', 'tag', 'artist', 'year', 'views', 'lyrics'], dtype='object')\n"
     ]
    }
   ],
   "source": [
    "print('df1 columns :', df1.columns)"
   ]
  },
  {
   "cell_type": "code",
   "execution_count": null,
   "metadata": {},
   "outputs": [],
   "source": [
    "df1 = df1.rename(columns={'tag':'genre'})"
   ]
  },
  {
   "cell_type": "code",
   "execution_count": null,
   "metadata": {},
   "outputs": [
    {
     "name": "stdout",
     "output_type": "stream",
     "text": [
      "<class 'pandas.core.frame.DataFrame'>\n",
      "Index: 3374198 entries, 0 to 5134855\n",
      "Data columns (total 6 columns):\n",
      " #   Column  Dtype \n",
      "---  ------  ----- \n",
      " 0   title   object\n",
      " 1   genre   object\n",
      " 2   artist  object\n",
      " 3   year    int64 \n",
      " 4   views   int64 \n",
      " 5   lyrics  object\n",
      "dtypes: int64(2), object(4)\n",
      "memory usage: 180.2+ MB\n"
     ]
    }
   ],
   "source": [
    "df1.info()"
   ]
  },
  {
   "cell_type": "code",
   "execution_count": null,
   "metadata": {},
   "outputs": [
    {
     "name": "stdout",
     "output_type": "stream",
     "text": [
      "<class 'pandas.core.frame.DataFrame'>\n",
      "Index: 3374198 entries, 0 to 5134855\n",
      "Data columns (total 6 columns):\n",
      " #   Column  Dtype \n",
      "---  ------  ----- \n",
      " 0   title   object\n",
      " 1   genre   object\n",
      " 2   artist  object\n",
      " 3   year    int64 \n",
      " 4   views   int64 \n",
      " 5   lyrics  object\n",
      "dtypes: int64(2), object(4)\n",
      "memory usage: 180.2+ MB\n"
     ]
    }
   ],
   "source": [
    "# 가사 없는 값들 제거\n",
    "df1 = df1.dropna(subset=['lyrics'])\n",
    "df1.info()"
   ]
  },
  {
   "cell_type": "code",
   "execution_count": null,
   "metadata": {},
   "outputs": [
    {
     "name": "stdout",
     "output_type": "stream",
     "text": [
      "<class 'pandas.core.frame.DataFrame'>\n",
      "RangeIndex: 3374198 entries, 0 to 3374197\n",
      "Data columns (total 6 columns):\n",
      " #   Column  Dtype \n",
      "---  ------  ----- \n",
      " 0   title   object\n",
      " 1   genre   object\n",
      " 2   artist  object\n",
      " 3   year    int64 \n",
      " 4   views   int64 \n",
      " 5   lyrics  object\n",
      "dtypes: int64(2), object(4)\n",
      "memory usage: 154.5+ MB\n"
     ]
    }
   ],
   "source": [
    "# 인덱스 리셋\n",
    "df1 = df1.reset_index(drop=True)\n",
    "df1.info()"
   ]
  },
  {
   "cell_type": "code",
   "execution_count": null,
   "metadata": {},
   "outputs": [],
   "source": [
    "# 10,000만 저장해서 확인\n",
    "df_sample = df1.sample(n=10000, random_state=2025)  \n",
    "df_sample.to_csv(\"data/sample_dataset.csv\", index=False)"
   ]
  },
  {
   "cell_type": "markdown",
   "metadata": {},
   "source": [
    "## 샘플에서 확인하며 전처리 하기"
   ]
  },
  {
   "cell_type": "code",
   "execution_count": 14,
   "metadata": {},
   "outputs": [
    {
     "name": "stdout",
     "output_type": "stream",
     "text": [
      "총 데이터 개수: 10000\n",
      "총 컬럼 개수: 6\n",
      "컬럼 목록: ['title', 'genre', 'artist', 'year', 'views', 'lyrics']\n",
      "\n",
      "장르별 곡 수:\n",
      "genre\n",
      "pop        4145\n",
      "rap        2887\n",
      "rock       1863\n",
      "rb          437\n",
      "misc        409\n",
      "country     259\n",
      "Name: count, dtype: int64\n",
      "\n",
      "아티스트 수: 9072\n",
      "\n",
      "상위 10명의 아티스트별 곡 수:\n",
      "artist\n",
      "Genius English Translations    41\n",
      "Guided by Voices                9\n",
      "Holy Bible (KJV)                7\n",
      "The Grateful Dead               7\n",
      "George Jones                    6\n",
      "Conway Twitty                   5\n",
      "Kylie Minogue                   5\n",
      "Mark Twain                      5\n",
      "Stephen Sondheim                4\n",
      "Charles Dickens                 4\n",
      "Name: count, dtype: int64\n",
      "\n",
      "연도별 곡 수:\n",
      "year\n",
      "1          1\n",
      "13         1\n",
      "397        1\n",
      "1517       2\n",
      "1563       1\n",
      "        ... \n",
      "2019     915\n",
      "2020    1086\n",
      "2021     856\n",
      "2022     214\n",
      "2024       1\n",
      "Name: count, Length: 119, dtype: int64\n",
      "\n",
      "연도 값 샘플 (이상값 확인용):\n",
      "[1, 13, 397, 1517, 1563, 1751, 1790, 1796, 1808, 1812, 1815, 1819, 1822, 1823, 1837, 1841, 1842, 1843, 1844, 1847]\n"
     ]
    }
   ],
   "source": [
    "import pandas as pd\n",
    "\n",
    "# 데이터 불러오기\n",
    "df = pd.read_csv(\"data/sample_dataset.csv\")\n",
    "\n",
    "# 데이터 개요\n",
    "num_rows, num_cols = df.shape\n",
    "columns = df.columns.tolist()\n",
    "\n",
    "# 장르별 곡 수\n",
    "genre_counts = df[\"genre\"].value_counts()\n",
    "\n",
    "# 아티스트별 곡 수\n",
    "artist_counts = df[\"artist\"].value_counts()\n",
    "num_artists = artist_counts.shape[0]\n",
    "top_artists = artist_counts.head(10)\n",
    "\n",
    "# 연도별 곡 수\n",
    "year_counts = df[\"year\"].value_counts().sort_index()\n",
    "\n",
    "# 연도 값 확인 (이상값이 있는지 보기 위해 정렬된 리스트 출력)\n",
    "unique_years = sorted(df[\"year\"].dropna().unique())\n",
    "\n",
    "# 결과 출력\n",
    "print(f\"총 데이터 개수: {num_rows}\")\n",
    "print(f\"총 컬럼 개수: {num_cols}\")\n",
    "print(f\"컬럼 목록: {columns}\")\n",
    "print(\"\\n장르별 곡 수:\")\n",
    "print(genre_counts)\n",
    "print(f\"\\n아티스트 수: {num_artists}\")\n",
    "print(\"\\n상위 10명의 아티스트별 곡 수:\")\n",
    "print(top_artists)\n",
    "print(\"\\n연도별 곡 수:\")\n",
    "print(year_counts)\n",
    "print(\"\\n연도 값 샘플 (이상값 확인용):\")\n",
    "print(unique_years[:20])  # 일부만 출력해서 확인\n"
   ]
  },
  {
   "cell_type": "code",
   "execution_count": 5,
   "metadata": {},
   "outputs": [
    {
     "name": "stdout",
     "output_type": "stream",
     "text": [
      "          artist                 title  \\\n",
      "506          BoA           Got Me Good   \n",
      "518    P1Harmony       Do It Like This   \n",
      "752     Calcutta  Sorriso Milano Dateo   \n",
      "884         Arca               Desafío   \n",
      "1268  Angela Aki           Silent Girl   \n",
      "\n",
      "                                                 lyrics  \n",
      "506   Begun unexpectedly Never-ending game Caught in...  \n",
      "518    Yo Do it, do it, do it, do it, do it like thi...  \n",
      "752   Milano Dateo tiny spot on the map But I'm goin...  \n",
      "884    Touch me for the first time Kill me again and...  \n",
      "1268   Silent girl What are you trying to say tonigh...  \n"
     ]
    }
   ],
   "source": [
    "import pandas as pd\n",
    "import re\n",
    "\n",
    "# 데이터 불러오기\n",
    "df = pd.read_csv(\"data/sample_dataset.csv\")\n",
    "\n",
    "# Genius English Translations 필터링\n",
    "mask = df['artist'] == 'Genius English Translations'\n",
    "\n",
    "# 아티스트 이름 추출 (제목에서 ' - ' 앞부분)\n",
    "extracted_artists = df.loc[mask, 'title'].str.split(' - ').str[0].str.strip()\n",
    "\n",
    "# 제목 수정: 추출한 아티스트 이름과 ' - ', 'English Translation' 제거\n",
    "titles_cleaned = df.loc[mask, 'title'].str.replace(r'^.*? - ', '', regex=True) \\\n",
    "                                      .str.replace(r'\\(English Translation\\)', '', regex=True) \\\n",
    "                                      .str.replace('English Translation', '', regex=False) \\\n",
    "                                      .str.strip()\n",
    "\n",
    "# 수정 적용\n",
    "df.loc[mask, 'artist'] = extracted_artists\n",
    "df.loc[mask, 'title'] = titles_cleaned\n",
    "\n",
    "# 가사 전처리\n",
    "df['lyrics'] = df['lyrics'].str.replace(r'\\[.*?\\]', '', regex=True)  # 대괄호 안 제거\n",
    "df['lyrics'] = df['lyrics'].str.replace('\\n', ' ', regex=False)     # 줄바꿈 제거\n",
    "\n",
    "# 결과 확인\n",
    "print(df.loc[mask, ['artist', 'title', 'lyrics']].head())\n"
   ]
  },
  {
   "cell_type": "code",
   "execution_count": 8,
   "metadata": {},
   "outputs": [],
   "source": [
    "import langdetect\n",
    "\n",
    "# 영어만 남기기 위한 함수\n",
    "def is_english(text):\n",
    "    try:\n",
    "        return langdetect.detect(text) == 'en'\n",
    "    except:\n",
    "        return False\n",
    "\n",
    "# 영어 가사만 남기기\n",
    "df = df[df['lyrics'].apply(is_english)].reset_index(drop=True)"
   ]
  },
  {
   "cell_type": "code",
   "execution_count": null,
   "metadata": {},
   "outputs": [
    {
     "data": {
      "image/png": "[encoded data removed]",
      "text/plain": [
       "<Figure size 1500x400 with 1 Axes>"
      ]
     },
     "metadata": {},
     "output_type": "display_data"
    }
   ],
   "source": [
    "import matplotlib.pyplot as plt\n",
    "\n",
    "# 연도 분포 시각화\n",
    "df['year'].value_counts().sort_index().plot(kind='bar', figsize=(15, 4))\n",
    "plt.title(\"Year Distribution\")\n",
    "plt.xlabel(\"Year\")\n",
    "plt.ylabel(\"Number of Songs\")\n",
    "plt.tight_layout()\n",
    "plt.show()"
   ]
  },
  {
   "cell_type": "code",
   "execution_count": null,
   "metadata": {},
   "outputs": [],
   "source": [
    "# 연도범위를 1980년부터 2024년으로 축소\n",
    "df = df[(df['year'] >= 1980) & (df['year'] <= 2024)].reset_index(drop=True)"
   ]
  },
  {
   "cell_type": "code",
   "execution_count": 11,
   "metadata": {},
   "outputs": [
    {
     "data": {
      "image/png": "[encoded data removed]",
      "text/plain": [
       "<Figure size 1500x400 with 1 Axes>"
      ]
     },
     "metadata": {},
     "output_type": "display_data"
    }
   ],
   "source": [
    "# 연도 분포 시각화\n",
    "df['year'].value_counts().sort_index().plot(kind='bar', figsize=(15, 4))\n",
    "plt.title(\"Year Distribution\")\n",
    "plt.xlabel(\"Year\")\n",
    "plt.ylabel(\"Number of Songs\")\n",
    "plt.tight_layout()\n",
    "plt.show()"
   ]
  },
  {
   "cell_type": "markdown",
   "metadata": {},
   "source": [
    "# 전처리 과정 함수화 후 원본 데이터셋에 적용"
   ]
  },
  {
   "cell_type": "markdown",
   "metadata": {},
   "source": [
    "## 샘플을 뽑아 해보기"
   ]
  },
  {
   "cell_type": "code",
   "execution_count": 84,
   "metadata": {},
   "outputs": [
    {
     "name": "stdout",
     "output_type": "stream",
     "text": [
      "1. 영어 가사 필터링 중...\n",
      "2. 제목 및 아티스트 정리 중...\n",
      "3. 컬럼 이름 및 순서 정리 중...\n",
      "4. 연도 및 가사 정제 중...\n",
      "5. 형태소 분석 및 불용어 제거 중...\n",
      "전처리 완료.\n",
      "1. 컬럼 이름 및 순서 정리 중...\n",
      "2. 연도 및 가사 정제 중...\n",
      "3. 형태소 분석 및 불용어 제거 중...\n",
      "전처리 완료.\n"
     ]
    }
   ],
   "source": [
    "import pandas as pd\n",
    "import importlib; import preprocessing; importlib.reload(preprocessing)\n",
    "from preprocessing import preprocess_genius_dataset, preprocess_top100_dataset\n",
    "\n",
    "# Genius Dataset\n",
    "genius = pd.read_csv(\"../dataset/Genius Song Lyrics.csv\")\n",
    "genius_sample = genius.sample(n=3000, random_state=43).reset_index(drop=True)\n",
    "genius_cleaned = preprocess_genius_dataset(genius_sample)\n",
    "genius_cleaned.to_csv(\"../data/genius_cleaned_sample.csv\", index=False)\n",
    "\n",
    "# Top 100 Dataset\n",
    "top100 = pd.read_csv(\"../dataset/Top 100 Songs & Lyrics By Year 1959 - 2023 (USA).csv\")\n",
    "top100_sample = top100.sample(n=3000, random_state=43).reset_index(drop=True)\n",
    "top100_cleaned = preprocess_top100_dataset(top100_sample)\n",
    "top100_cleaned.to_csv(\"../data/top100_cleaned_sample.csv\", index=False)"
   ]
  },
  {
   "cell_type": "code",
   "execution_count": 85,
   "metadata": {},
   "outputs": [
    {
     "data": {
      "text/html": [
       "<div>\n",
       "<style scoped>\n",
       "    .dataframe tbody tr th:only-of-type {\n",
       "        vertical-align: middle;\n",
       "    }\n",
       "\n",
       "    .dataframe tbody tr th {\n",
       "        vertical-align: top;\n",
       "    }\n",
       "\n",
       "    .dataframe thead th {\n",
       "        text-align: right;\n",
       "    }\n",
       "</style>\n",
       "<table border=\"1\" class=\"dataframe\">\n",
       "  <thead>\n",
       "    <tr style=\"text-align: right;\">\n",
       "      <th></th>\n",
       "      <th>title</th>\n",
       "      <th>artist</th>\n",
       "      <th>genre</th>\n",
       "      <th>year</th>\n",
       "      <th>lyrics</th>\n",
       "      <th>lyrics_tokens</th>\n",
       "    </tr>\n",
       "  </thead>\n",
       "  <tbody>\n",
       "    <tr>\n",
       "      <th>0</th>\n",
       "      <td>Stolen Horses</td>\n",
       "      <td>Guy Smith</td>\n",
       "      <td>country</td>\n",
       "      <td>2020</td>\n",
       "      <td>i'm ridin' stolen horses runnin' through the n...</td>\n",
       "      <td>[ridin, ', stolen, horses, runnin, ', night, g...</td>\n",
       "    </tr>\n",
       "    <tr>\n",
       "      <th>1</th>\n",
       "      <td>Nates Song</td>\n",
       "      <td>Lashes</td>\n",
       "      <td>pop</td>\n",
       "      <td>2006</td>\n",
       "      <td>well the last time i said i love you i really ...</td>\n",
       "      <td>[well, last, time, said, love, really, mean, r...</td>\n",
       "    </tr>\n",
       "    <tr>\n",
       "      <th>2</th>\n",
       "      <td>Biomorph II: Collide into Being</td>\n",
       "      <td>Sunless Dawn</td>\n",
       "      <td>rock</td>\n",
       "      <td>2018</td>\n",
       "      <td>just a whisper i could hear it now lost in a s...</td>\n",
       "      <td>[whisper, could, hear, lost, sea, information,...</td>\n",
       "    </tr>\n",
       "    <tr>\n",
       "      <th>3</th>\n",
       "      <td>Taken Off The List</td>\n",
       "      <td>Grenouer</td>\n",
       "      <td>pop</td>\n",
       "      <td>2008</td>\n",
       "      <td>looking into sun making things you've done to ...</td>\n",
       "      <td>[looking, sun, making, things, done, lying, sa...</td>\n",
       "    </tr>\n",
       "    <tr>\n",
       "      <th>4</th>\n",
       "      <td>A Dogs Breakfast</td>\n",
       "      <td>Tourniquet</td>\n",
       "      <td>rock</td>\n",
       "      <td>1991</td>\n",
       "      <td>listen to ron hubbard's son dad was conman num...</td>\n",
       "      <td>[listen, ron, hubbard, son, dad, conman, numbe...</td>\n",
       "    </tr>\n",
       "  </tbody>\n",
       "</table>\n",
       "</div>"
      ],
      "text/plain": [
       "                             title        artist    genre  year  \\\n",
       "0                    Stolen Horses     Guy Smith  country  2020   \n",
       "1                       Nates Song        Lashes      pop  2006   \n",
       "2  Biomorph II: Collide into Being  Sunless Dawn     rock  2018   \n",
       "3               Taken Off The List      Grenouer      pop  2008   \n",
       "4                 A Dogs Breakfast    Tourniquet     rock  1991   \n",
       "\n",
       "                                              lyrics  \\\n",
       "0  i'm ridin' stolen horses runnin' through the n...   \n",
       "1  well the last time i said i love you i really ...   \n",
       "2  just a whisper i could hear it now lost in a s...   \n",
       "3  looking into sun making things you've done to ...   \n",
       "4  listen to ron hubbard's son dad was conman num...   \n",
       "\n",
       "                                       lyrics_tokens  \n",
       "0  [ridin, ', stolen, horses, runnin, ', night, g...  \n",
       "1  [well, last, time, said, love, really, mean, r...  \n",
       "2  [whisper, could, hear, lost, sea, information,...  \n",
       "3  [looking, sun, making, things, done, lying, sa...  \n",
       "4  [listen, ron, hubbard, son, dad, conman, numbe...  "
      ]
     },
     "execution_count": 85,
     "metadata": {},
     "output_type": "execute_result"
    }
   ],
   "source": [
    "genius_cleaned.head()"
   ]
  },
  {
   "cell_type": "code",
   "execution_count": 86,
   "metadata": {},
   "outputs": [
    {
     "data": {
      "text/html": [
       "<div>\n",
       "<style scoped>\n",
       "    .dataframe tbody tr th:only-of-type {\n",
       "        vertical-align: middle;\n",
       "    }\n",
       "\n",
       "    .dataframe tbody tr th {\n",
       "        vertical-align: top;\n",
       "    }\n",
       "\n",
       "    .dataframe thead th {\n",
       "        text-align: right;\n",
       "    }\n",
       "</style>\n",
       "<table border=\"1\" class=\"dataframe\">\n",
       "  <thead>\n",
       "    <tr style=\"text-align: right;\">\n",
       "      <th></th>\n",
       "      <th>title</th>\n",
       "      <th>artist</th>\n",
       "      <th>release date</th>\n",
       "      <th>year</th>\n",
       "      <th>rank</th>\n",
       "      <th>lyrics</th>\n",
       "      <th>lyrics_tokens</th>\n",
       "    </tr>\n",
       "  </thead>\n",
       "  <tbody>\n",
       "    <tr>\n",
       "      <th>0</th>\n",
       "      <td>I Can't Help Myself (Sugar Pie Honey Bunch)</td>\n",
       "      <td>Four Tops</td>\n",
       "      <td>1965-11-13</td>\n",
       "      <td>1965</td>\n",
       "      <td>2</td>\n",
       "      <td>uuh sugar pie honey bunch you know that i love...</td>\n",
       "      <td>[sugar, pie, honey, bunch, know, love, ca, hel...</td>\n",
       "    </tr>\n",
       "    <tr>\n",
       "      <th>1</th>\n",
       "      <td>Little Ole Man (Uptight-Everything's Alright)</td>\n",
       "      <td>Bill Cosby</td>\n",
       "      <td>NaN</td>\n",
       "      <td>1967</td>\n",
       "      <td>92</td>\n",
       "      <td>verse a little ole' man was sittin' on a step ...</td>\n",
       "      <td>[verse, little, ole, ', man, sittin, ', step, ...</td>\n",
       "    </tr>\n",
       "    <tr>\n",
       "      <th>2</th>\n",
       "      <td>How Do You Do It!</td>\n",
       "      <td>Gerry and The Pacemakers</td>\n",
       "      <td>NaN</td>\n",
       "      <td>1964</td>\n",
       "      <td>89</td>\n",
       "      <td>how do you do what you do to me i wish i knew ...</td>\n",
       "      <td>[wish, knew, knew, feelin, ', blue, wish, knew...</td>\n",
       "    </tr>\n",
       "    <tr>\n",
       "      <th>3</th>\n",
       "      <td>Stir It Up</td>\n",
       "      <td>Johnny Nash</td>\n",
       "      <td>1972-03-31</td>\n",
       "      <td>1973</td>\n",
       "      <td>91</td>\n",
       "      <td>stir it up bob marley stir it up little darlin...</td>\n",
       "      <td>[stir, bob, marley, stir, little, darling, sti...</td>\n",
       "    </tr>\n",
       "    <tr>\n",
       "      <th>4</th>\n",
       "      <td>Self Control</td>\n",
       "      <td>Laura Branigan</td>\n",
       "      <td>1984-04-19</td>\n",
       "      <td>1984</td>\n",
       "      <td>20</td>\n",
       "      <td>oh the night is my world city light painted gi...</td>\n",
       "      <td>[night, world, city, light, painted, girl, day...</td>\n",
       "    </tr>\n",
       "  </tbody>\n",
       "</table>\n",
       "</div>"
      ],
      "text/plain": [
       "                                           title                    artist  \\\n",
       "0    I Can't Help Myself (Sugar Pie Honey Bunch)                 Four Tops   \n",
       "1  Little Ole Man (Uptight-Everything's Alright)                Bill Cosby   \n",
       "2                              How Do You Do It!  Gerry and The Pacemakers   \n",
       "3                                     Stir It Up               Johnny Nash   \n",
       "4                                   Self Control            Laura Branigan   \n",
       "\n",
       "  release date  year  rank                                             lyrics  \\\n",
       "0   1965-11-13  1965     2  uuh sugar pie honey bunch you know that i love...   \n",
       "1          NaN  1967    92  verse a little ole' man was sittin' on a step ...   \n",
       "2          NaN  1964    89  how do you do what you do to me i wish i knew ...   \n",
       "3   1972-03-31  1973    91  stir it up bob marley stir it up little darlin...   \n",
       "4   1984-04-19  1984    20  oh the night is my world city light painted gi...   \n",
       "\n",
       "                                       lyrics_tokens  \n",
       "0  [sugar, pie, honey, bunch, know, love, ca, hel...  \n",
       "1  [verse, little, ole, ', man, sittin, ', step, ...  \n",
       "2  [wish, knew, knew, feelin, ', blue, wish, knew...  \n",
       "3  [stir, bob, marley, stir, little, darling, sti...  \n",
       "4  [night, world, city, light, painted, girl, day...  "
      ]
     },
     "execution_count": 86,
     "metadata": {},
     "output_type": "execute_result"
    }
   ],
   "source": [
    "top100_cleaned.head()"
   ]
  },
  {
   "cell_type": "markdown",
   "metadata": {},
   "source": [
    "## 원본 데이터셋에 적용용"
   ]
  },
  {
   "cell_type": "code",
   "execution_count": null,
   "metadata": {},
   "outputs": [],
   "source": [
    "import pandas as pd\n",
    "from preprocessing import preprocess_genius_dataset, preprocess_top100_dataset\n",
    "\n",
    "# Genius 원본 데이터 불러오기\n",
    "genius_df = pd.read_csv(\"../dataset/Genius Song Lyrics.csv\")\n",
    "genius_cleaned = preprocess_genius_dataset(genius_df)\n",
    "genius_cleaned.to_csv(\"../data/genius_cleaned.csv\", index=False)\n",
    "\n",
    "# Top 100 원본 데이터 불러오기\n",
    "top100_df = pd.read_csv(\"../dataset/Top 100 Songs & Lyrics By Year 1959 - 2023 (USA).csv\")\n",
    "top100_cleaned = preprocess_top100_dataset(top100_df)\n",
    "top100_cleaned.to_csv(\"../data/top100_cleaned.csv\", index=False)"
   ]
  }
 ],
 "metadata": {
  "kernelspec": {
   "display_name": "base",
   "language": "python",
   "name": "python3"
  },
  "language_info": {
   "codemirror_mode": {
    "name": "ipython",
    "version": 3
   },
   "file_extension": ".py",
   "mimetype": "text/x-python",
   "name": "python",
   "nbconvert_exporter": "python",
   "pygments_lexer": "ipython3",
   "version": "3.12.7"
  }
 },
 "nbformat": 4,
 "nbformat_minor": 2
}
