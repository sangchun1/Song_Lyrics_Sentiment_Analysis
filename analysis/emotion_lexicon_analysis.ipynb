{
 "cells": [
  {
   "cell_type": "markdown",
   "id": "2d9508fa",
   "metadata": {},
   "source": [
    "# 감정 사전 분석 "
   ]
  },
  {
   "cell_type": "markdown",
   "id": "14466d7a",
   "metadata": {},
   "source": [
    "## 감정 사전 불러오기 "
   ]
  },
  {
   "cell_type": "code",
   "execution_count": null,
   "id": "6d382bae",
   "metadata": {},
   "outputs": [],
   "source": [
    "import pandas as pd\n",
    "import matplotlib.pyplot as plt\n",
    "import seaborn as sns\n",
    "\n",
    "# 감정 사전 로딩 - NRC Emotion Lexicon\n",
    "nrc_path = \"../data/NRC-Emotion-Lexicon-Wordlevel-v0.92.txt\"\n",
    "nrc = pd.read_csv(nrc_path, sep=\"\\t\", names=[\"word\", \"emotion\", \"association\"])\n",
    "\n",
    "# 감정 연관성 있는 단어만 필터링\n",
    "nrc = nrc[nrc[\"association\"] == 1]\n",
    "print(nrc.head())\n",
    "print(\"고유 감정 목록:\", nrc[\"emotion\"].unique())"
   ]
  },
  {
   "cell_type": "code",
   "execution_count": null,
   "id": "f31bb319",
   "metadata": {},
   "outputs": [],
   "source": [
    "# 감정별 단어 수 집계 시각화\n",
    "emotion_counts = nrc[\"emotion\"].value_counts().sort_values(ascending=False)\n",
    "\n",
    "plt.figure(figsize=(8, 5))\n",
    "sns.barplot(x=emotion_counts.index, y=emotion_counts.values)\n",
    "plt.title(\"Emotion Word Counts in NRC Lexicon\")\n",
    "plt.ylabel(\"Count\")\n",
    "plt.xticks(rotation=45)\n",
    "plt.tight_layout()\n",
    "plt.show()"
   ]
  },
  {
   "cell_type": "markdown",
   "id": "588ab58d",
   "metadata": {},
   "source": [
    "* NRC 감정 사전은 joy, trust, anticipation 등 비슷한 정서가 분리돼 있어 해석이 애매한 경우가 많음\n",
    "* 그래서 의미가 가까운 감정들을 love, anger, sadness 같은 감정군으로 묶어 더 직관적으로 분석할 수 있도록 구성함  \n",
    "* 이 구조는 감정 점수 계산, 트렌드 분석, 클러스터링 등에 그대로 활용할 예정"
   ]
  },
  {
   "cell_type": "markdown",
   "id": "346d2a64",
   "metadata": {},
   "source": [
    "## 사용자 정의 감정군으로 매핑 "
   ]
  },
  {
   "cell_type": "code",
   "execution_count": null,
   "id": "a16b2a99",
   "metadata": {},
   "outputs": [],
   "source": [
    "# NRC 감정 ➜ 사용자 정의 감정군으로 매핑\n",
    "custom_emotion_map = {\n",
    "    \"joy\": \"love\",\n",
    "    \"trust\": \"love\",\n",
    "    \"positive\": \"love\",\n",
    "\n",
    "    \"sadness\": \"sadness\",\n",
    "    \"fear\": \"sadness\",\n",
    "    \"negative\": \"sadness\",\n",
    "\n",
    "    \"anger\": \"anger\",\n",
    "    \"disgust\": \"anger\",\n",
    "\n",
    "    \"anticipation\": \"hope\",\n",
    "    \"surprise\": \"surprise\",\n",
    "}\n",
    "\n",
    "# 감정 단어 데이터프레임에 사용자 정의 감정군 추가\n",
    "nrc[\"custom_emotion\"] = nrc[\"emotion\"].map(custom_emotion_map)"
   ]
  },
  {
   "cell_type": "code",
   "execution_count": null,
   "id": "47cfd565",
   "metadata": {},
   "outputs": [],
   "source": [
    "# 감정군별 단어 수 집계 시각화 \n",
    "group_counts = nrc[\"custom_emotion\"].value_counts().sort_values(ascending=False)\n",
    "\n",
    "plt.figure(figsize=(8, 5))\n",
    "sns.barplot(x=group_counts.index, y=group_counts.values, palette=\"muted\")\n",
    "plt.title(\"Custom Emotion Group Distribution in NRC Lexicon\")\n",
    "plt.ylabel(\"Number of Words\")\n",
    "plt.xlabel(\"Emotion Group\")\n",
    "plt.tight_layout()\n",
    "plt.show()"
   ]
  },
  {
   "cell_type": "code",
   "execution_count": null,
   "id": "387d2b50",
   "metadata": {},
   "outputs": [],
   "source": [
    "# 단어 기준 감정군 set 생성\n",
    "word_to_emotions = (\n",
    "    nrc.groupby(\"word\")[\"custom_emotion\"]\n",
    "    .apply(set)\n",
    "    .to_dict()\n",
    ")\n",
    "\n",
    "# 예시\n",
    "print(word_to_emotions.get(\"hug\"))  # {'love'}\n",
    "print(word_to_emotions.get(\"kill\"))  # {'sadness'}\n",
    "print(word_to_emotions.get(\"fight\"))  # {'anger', 'sadness'}"
   ]
  },
  {
   "cell_type": "code",
   "execution_count": null,
   "id": "0218ff28",
   "metadata": {},
   "outputs": [],
   "source": [
    "# # 딕셔너리 키를 안전하게 문자열로 강제 변환 (strip도 함께 적용)\n",
    "# word_to_emotions_cleaned = {\n",
    "#     str(k).strip(): v for k, v in word_to_emotions.items()\n",
    "# }"
   ]
  },
  {
   "cell_type": "markdown",
   "id": "2fc9d4b3",
   "metadata": {},
   "source": [
    "## 감정 단어 기반 특징 추출"
   ]
  },
  {
   "cell_type": "code",
   "execution_count": null,
   "id": "bcc4f43b",
   "metadata": {},
   "outputs": [],
   "source": [
    "# 가사에서 감정군에 속하는 단어 추출하는 함수\n",
    "def extract_emotion_words(tokens, word_to_emotions):\n",
    "    # 감정군에 속하는 단어만 추출된 리스트를 return\n",
    "    return [t for t in tokens if str(t).strip() in word_to_emotions]"
   ]
  },
  {
   "cell_type": "code",
   "execution_count": null,
   "id": "399ee14c",
   "metadata": {},
   "outputs": [],
   "source": [
    "# 감정군에 속하는 단어 비율 구하는 함수\n",
    "from collections import Counter\n",
    "\n",
    "def get_emotion_word_counts(tokens, word_to_emotions):\n",
    "    # 감정 단어들 필터링\n",
    "    matched = [w for w in tokens if w in word_to_emotions]\n",
    "    total = len(tokens)\n",
    "\n",
    "    # 감정들을 풀어서 리스트로 수집 (set → 각 감정)\n",
    "    emotion_list = []\n",
    "    for w in matched:\n",
    "        emotion_list.extend(word_to_emotions[w])  # set → list로 확장\n",
    "\n",
    "    count = Counter(emotion_list)\n",
    "    \n",
    "    # 비율 계산\n",
    "    proportion = {emotion: round(count[emotion] / total * 100, 2) for emotion in count}\n",
    "    return count, proportion"
   ]
  },
  {
   "cell_type": "code",
   "execution_count": null,
   "id": "fa460855",
   "metadata": {},
   "outputs": [],
   "source": [
    "import pandas as pd\n",
    "\n",
    "# 데이터 불러오기 \n",
    "df = pd.read_pkl('../data/top100_cleaned.pkl')"
   ]
  },
  {
   "cell_type": "code",
   "execution_count": null,
   "id": "35aa7359",
   "metadata": {},
   "outputs": [],
   "source": [
    "# import ast\n",
    "\n",
    "# if isinstance(df[\"lyrics_tokens\"].iloc[0], str):\n",
    "#     df[\"lyrics_tokens\"] = df[\"lyrics_tokens\"].apply(ast.literal_eval)"
   ]
  },
  {
   "cell_type": "code",
   "execution_count": null,
   "id": "ece947eb",
   "metadata": {},
   "outputs": [],
   "source": [
    "# 샘플 가사 2곡 뽑기\n",
    "sample_df = df.sample(2, random_state=42)\n",
    "\n",
    "for idx, row in sample_df.iterrows():\n",
    "    title = row[\"title\"]\n",
    "    artist = row[\"artist\"]\n",
    "    tokens = row[\"lyrics_tokens\"]\n",
    "    total = len(tokens)\n",
    "\n",
    "    # 감정 단어 추출 및 감정별 빈도/비율 계산\n",
    "    emotion_words = extract_emotion_words(tokens, word_to_emotions)\n",
    "    emo_count = len(emotion_words)\n",
    "    ratio = emo_count / total if total > 0 else 0\n",
    "    emo_counts, emo_props = get_emotion_word_counts(tokens, word_to_emotions)\n",
    "\n",
    "    # 출력\n",
    "    print(f\"{title} - {artist}\")\n",
    "    print(f\"가사 길이: {total} 토큰\")\n",
    "    print(f\"감정 단어 수: {emo_count}\")\n",
    "    print(f\"감정 단어 비율: {ratio:.2%}\")\n",
    "    print(f\"감정 단어: {emotion_words}\")\n",
    "    print(\"감정별 단어 수:\", dict(emo_counts))\n",
    "    print(\"감정별 비율 (%):\", emo_props)\n",
    "    print(\"-\" * 50)"
   ]
  },
  {
   "cell_type": "markdown",
   "id": "df13d397",
   "metadata": {},
   "source": [
    "### 샘플로 저장 "
   ]
  },
  {
   "cell_type": "code",
   "execution_count": null,
   "id": "f900b0b6",
   "metadata": {},
   "outputs": [],
   "source": [
    "import pandas as pd\n",
    "from collections import Counter\n",
    "\n",
    "# 감정 전체 목록 미리 추출\n",
    "all_emotions = sorted(set(em for emo_set in word_to_emotions.values() for em in emo_set))\n",
    "\n",
    "sample_data = []\n",
    "sample_n = 100\n",
    "\n",
    "for i in range(sample_n):\n",
    "    row = df_lemmatized.iloc[i]\n",
    "    tokens = row[\"lyrics_tokens\"]\n",
    "    title = row.get(\"title\", f\"Unknown {i+1}\")\n",
    "    artist = row.get(\"artist\", \"Unknown\")\n",
    "\n",
    "    total = len(tokens)\n",
    "    \n",
    "    # 감정 단어 추출 및 감정 빈도/비율 계산\n",
    "    matched_words = extract_emotion_words(tokens, word_to_emotions)\n",
    "    emotion_counts, emotion_ratios = get_emotion_word_counts(tokens, word_to_emotions)\n",
    "\n",
    "    entry = {\n",
    "        \"title\": title,\n",
    "        \"artist\": artist,\n",
    "        \"total_tokens\": total,\n",
    "        \"emotion_word_count\": len(matched_words),\n",
    "        \"emotion_word_ratio\": round(len(matched_words) / total * 100, 2) if total > 0 else 0.0,\n",
    "        \"emotion_words\": \", \".join(matched_words),\n",
    "    }\n",
    "\n",
    "    # 감정별 개수와 비율 추가\n",
    "    for emo in all_emotions:\n",
    "        entry[f\"count_{emo}\"] = emotion_counts.get(emo, 0)\n",
    "        entry[f\"ratio_{emo}\"] = emotion_ratios.get(emo, 0.0)\n",
    "\n",
    "    sample_data.append(entry)\n",
    "\n",
    "# 저장\n",
    "df_sample_stats = pd.DataFrame(sample_data)\n",
    "df_sample_stats.to_csv(\"../results/sample_emotion_analysis.csv\", index=False)"
   ]
  },
  {
   "cell_type": "markdown",
   "id": "b7e1fee7",
   "metadata": {},
   "source": [
    "### 워드클라우드 만들기"
   ]
  },
  {
   "cell_type": "code",
   "execution_count": null,
   "id": "826f73a1",
   "metadata": {},
   "outputs": [],
   "source": [
    "from wordcloud import WordCloud\n",
    "import matplotlib.pyplot as plt\n",
    "from collections import Counter\n",
    "\n",
    "# 모든 감정 단어 리스트 수집\n",
    "all_emotion_words = df_lemmatized[\"emotion_words\"].explode().dropna()\n",
    "\n",
    "# 단어 빈도 계산\n",
    "emotion_word_freq = Counter(all_emotion_words)\n",
    "\n",
    "# 워드클라우드 생성\n",
    "wc = WordCloud(width=800, height=400, background_color=\"white\").generate_from_frequencies(emotion_word_freq)\n",
    "\n",
    "# 시각화\n",
    "plt.figure(figsize=(10, 5))\n",
    "plt.imshow(wc, interpolation=\"bilinear\")\n",
    "plt.axis(\"off\")\n",
    "plt.title(\"Emotion Word Cloud\")\n",
    "plt.tight_layout()\n",
    "plt.show()"
   ]
  },
  {
   "cell_type": "code",
   "execution_count": null,
   "id": "e630c5c4",
   "metadata": {},
   "outputs": [],
   "source": [
    "from collections import defaultdict\n",
    "\n",
    "# 감정군별 워드클라우드 \n",
    "emo_groups = defaultdict(list)\n",
    "for tokens in df_lemmatized[\"lyrics_tokens\"]:\n",
    "    for token in tokens:\n",
    "        emotions = word_to_emotions.get(token, set())\n",
    "        for emo in emotions:\n",
    "            emo_groups[emo].append(token)"
   ]
  },
  {
   "cell_type": "markdown",
   "id": "4fb2cb3d",
   "metadata": {},
   "source": [
    "## 감정 점수 계산 "
   ]
  },
  {
   "cell_type": "code",
   "execution_count": null,
   "id": "c1e80cc1",
   "metadata": {},
   "outputs": [],
   "source": [
    "from collections import Counter\n",
    "\n",
    "def compute_emotion_scores(tokens, word_to_emotions):\n",
    "    \"\"\"\n",
    "    주어진 토큰 리스트에서 감정군별 등장 횟수를 계산하는 함수\n",
    "\n",
    "    Parameters:\n",
    "        tokens (list of str): 형태소 분석된 가사 토큰\n",
    "        word_to_emotions (dict): 단어 → 감정군 set 매핑 딕셔너리\n",
    "\n",
    "    Returns:\n",
    "        dict: 감정군별 단어 수 (ex: {'love': 3, 'sadness': 1, ...})\n",
    "    \"\"\"\n",
    "    counter = Counter()\n",
    "\n",
    "    for token in tokens:\n",
    "        emotions = word_to_emotions.get(token, set())\n",
    "        for emo in emotions:\n",
    "            counter[emo] += 1\n",
    "\n",
    "    return dict(counter)\n"
   ]
  },
  {
   "cell_type": "code",
   "execution_count": null,
   "id": "c95cec21",
   "metadata": {},
   "outputs": [],
   "source": [
    "# 샘플 토큰\n",
    "tokens = [\"love\", \"cry\", \"hug\", \"kill\", \"smile\", \"trust\"]\n",
    "\n",
    "# 감정 점수 계산\n",
    "emotion_scores = compute_emotion_scores(tokens, word_to_emotions)\n",
    "\n",
    "print(emotion_scores)\n",
    "# 예시 출력: {'love': 4, 'sadness': 2, 'surprise': 1}"
   ]
  }
 ],
 "metadata": {
  "kernelspec": {
   "display_name": "base",
   "language": "python",
   "name": "python3"
  },
  "language_info": {
   "codemirror_mode": {
    "name": "ipython",
    "version": 3
   },
   "file_extension": ".py",
   "mimetype": "text/x-python",
   "name": "python",
   "nbconvert_exporter": "python",
   "pygments_lexer": "ipython3",
   "version": "3.12.7"
  }
 },
 "nbformat": 4,
 "nbformat_minor": 5
}
